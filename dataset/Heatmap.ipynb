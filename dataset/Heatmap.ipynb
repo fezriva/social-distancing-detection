{
 "cells": [
  {
   "cell_type": "code",
   "execution_count": 1,
   "metadata": {},
   "outputs": [],
   "source": [
    "import matplotlib.pyplot as plt\n",
    "import numpy as np\n",
    "import pandas as pd\n",
    "import cv2"
   ]
  },
  {
   "cell_type": "code",
   "execution_count": 2,
   "metadata": {},
   "outputs": [],
   "source": [
    "data = pd.read_csv(\"campo_fiori.csv\") "
   ]
  },
  {
   "cell_type": "code",
   "execution_count": 3,
   "metadata": {},
   "outputs": [],
   "source": [
    "appendix = pd.read_csv(\"appendix.csv\") "
   ]
  },
  {
   "cell_type": "code",
   "execution_count": 4,
   "metadata": {},
   "outputs": [],
   "source": [
    "frameW = appendix['frameW'][0]\n",
    "frameH = appendix['frameH'][0]\n",
    "blocks = 16"
   ]
  },
  {
   "cell_type": "code",
   "execution_count": 5,
   "metadata": {},
   "outputs": [],
   "source": [
    "width = np.arange(0, frameW, frameW/blocks)\n",
    "height = np.arange(0, frameH, frameH/blocks)"
   ]
  },
  {
   "cell_type": "code",
   "execution_count": 6,
   "metadata": {},
   "outputs": [],
   "source": [
    "heatmap = np.zeros((blocks,blocks)) "
   ]
  },
  {
   "cell_type": "code",
   "execution_count": 7,
   "metadata": {},
   "outputs": [],
   "source": [
    "for a in range(len(data)):\n",
    "    for b1 in range(blocks):\n",
    "        if width[b1] - (frameW/(blocks*2)) <= data['coordX'].values[a] < width[b1] + (frameW/(blocks*2)):\n",
    "            for b2 in range(blocks):\n",
    "                if height[b2] - (frameH/(blocks*2)) <= data['coordY'].values[a] < height[b2] + (frameW/(blocks*2)):\n",
    "                    heatmap[b1,b2] += 1"
   ]
  },
  {
   "cell_type": "code",
   "execution_count": 8,
   "metadata": {},
   "outputs": [
    {
     "data": {
      "text/plain": [
       "-1"
      ]
     },
     "execution_count": 8,
     "metadata": {},
     "output_type": "execute_result"
    }
   ],
   "source": [
    "heatmap = cv2.resize(heatmap, (frameW,frameH))\n",
    "heatmapshow = None\n",
    "heatmapshow = cv2.normalize(heatmap, heatmapshow, alpha=0, beta=255, norm_type=cv2.NORM_MINMAX, dtype=cv2.CV_8U)\n",
    "heatmapshow = cv2.applyColorMap(heatmapshow, cv2.COLORMAP_JET)\n",
    "cv2.imshow(\"Heatmap\", heatmapshow)\n",
    "cv2.waitKey(0)"
   ]
  }
 ],
 "metadata": {
  "kernelspec": {
   "display_name": "Python 3",
   "language": "python",
   "name": "python3"
  },
  "language_info": {
   "codemirror_mode": {
    "name": "ipython",
    "version": 3
   },
   "file_extension": ".py",
   "mimetype": "text/x-python",
   "name": "python",
   "nbconvert_exporter": "python",
   "pygments_lexer": "ipython3",
   "version": "3.7.4"
  }
 },
 "nbformat": 4,
 "nbformat_minor": 2
}
